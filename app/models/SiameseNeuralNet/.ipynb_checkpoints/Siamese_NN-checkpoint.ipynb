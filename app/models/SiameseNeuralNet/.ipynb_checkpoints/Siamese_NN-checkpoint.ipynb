{
 "cells": [
  {
   "cell_type": "code",
   "execution_count": null,
   "id": "6a35cf2e",
   "metadata": {
    "id": "6a35cf2e"
   },
   "outputs": [],
   "source": [
    "import numpy as np\n",
    "import pandas as pd\n",
    "import matplotlib.pyplot as plt\n",
    "import random\n",
    "import requests\n",
    "import pickle\n",
    "import re\n",
    "import urllib.request\n",
    "from PIL import Image\n",
    "import PIL.ImageOps  \n",
    "import torch  \n",
    "import torchvision\n",
    "import torchvision.datasets as datasets\n",
    "import torchvision.transforms as transforms\n",
    "from torch.utils.data import DataLoader, Dataset\n",
    "import torchvision.utils\n",
    "import torch\n",
    "from torch.autograd import Variable\n",
    "import torch.nn as nn\n",
    "from torch import optim\n",
    "import torch.nn.functional as F"
   ]
  },
  {
   "cell_type": "code",
   "execution_count": null,
   "id": "vmcrawckMJpa",
   "metadata": {
    "colab": {
     "base_uri": "https://localhost:8080/"
    },
    "id": "vmcrawckMJpa",
    "outputId": "2f604eb3-9bc2-4292-e30c-6570463af6b1"
   },
   "outputs": [],
   "source": [
    "if torch.cuda.is_available():\n",
    "  device = torch.device(\"cuda:0\")\n",
    "  print(\"GPU\")\n",
    "else:\n",
    "  device = torch.device(\"cpu\")\n",
    "  print(\"CPU\")"
   ]
  },
  {
   "cell_type": "code",
   "execution_count": null,
   "id": "bMVzVwdQEL15",
   "metadata": {
    "colab": {
     "base_uri": "https://localhost:8080/"
    },
    "id": "bMVzVwdQEL15",
    "outputId": "54c6bc82-1baf-47a5-d56b-2030566a3d4c"
   },
   "outputs": [],
   "source": [
    "from google.colab import drive\n",
    "drive.mount('/content/drive')"
   ]
  },
  {
   "cell_type": "code",
   "execution_count": null,
   "id": "a5bc21ab",
   "metadata": {
    "id": "a5bc21ab"
   },
   "outputs": [],
   "source": [
    "def imshow(img, text=None):\n",
    "    npimg = img.numpy()\n",
    "    plt.axis(\"off\")\n",
    "    if text:\n",
    "        plt.text(75, 8, text, style='italic',fontweight='bold',\n",
    "            bbox={'facecolor':'white', 'alpha':0.8, 'pad':10})\n",
    "        \n",
    "    plt.imshow(np.transpose(npimg, (1, 2, 0)))\n",
    "    plt.show()    \n",
    "\n",
    "def show_plot(iteration,loss):\n",
    "    plt.plot(iteration,loss)\n",
    "    plt.show()"
   ]
  },
  {
   "cell_type": "code",
   "execution_count": null,
   "id": "4c678123",
   "metadata": {
    "id": "4c678123"
   },
   "outputs": [],
   "source": [
    "class SiameseNetworkDataset(Dataset):\n",
    "    def __init__(self,imageFolderDataset,transform=None):\n",
    "        self.imageFolderDataset = imageFolderDataset    \n",
    "        self.transform = transform\n",
    "        \n",
    "    def __getitem__(self,index):\n",
    "        img0_tuple = random.choice(self.imageFolderDataset.imgs)\n",
    "\n",
    "        should_get_same_class = random.randint(0,1) \n",
    "        if should_get_same_class:\n",
    "            while True:\n",
    "                #Look untill the same class image is found\n",
    "                img1_tuple = random.choice(self.imageFolderDataset.imgs) \n",
    "                if img0_tuple[1] == img1_tuple[1]:\n",
    "                    break\n",
    "        else:\n",
    "\n",
    "            while True:\n",
    "                img1_tuple = random.choice(self.imageFolderDataset.imgs) \n",
    "                if img0_tuple[1] != img1_tuple[1]:\n",
    "                    break\n",
    "\n",
    "        img0 = Image.open(img0_tuple[0])\n",
    "        img1 = Image.open(img1_tuple[0])\n",
    "        \n",
    "        img0 = img0.resize((140,140))\n",
    "        img1 = img1.resize((140,140))\n",
    "        \n",
    "        img0 = img0.crop((20,20,120,120))\n",
    "        img1 = img1.crop((20,20,120,120))\n",
    "        \n",
    "        img0 = img0.convert(\"RGB\")\n",
    "        img1 = img1.convert(\"RGB\")\n",
    "\n",
    "        if self.transform is not None:\n",
    "            img0 = self.transform(img0)\n",
    "            img1 = self.transform(img1)\n",
    "        \n",
    "        return img0, img1, torch.from_numpy(np.array([int(img1_tuple[1] != img0_tuple[1])], dtype=np.float32))\n",
    "    \n",
    "    def __len__(self):\n",
    "        return len(self.imageFolderDataset.imgs)"
   ]
  },
  {
   "cell_type": "code",
   "execution_count": null,
   "id": "de54bec5",
   "metadata": {
    "id": "de54bec5"
   },
   "outputs": [],
   "source": [
    "folder_dataset = datasets.ImageFolder(root=r\"/content/drive/MyDrive/Siamese Neural Network Recipe URLs/food_training\")\n",
    "\n",
    "transformation = transforms.Compose([\n",
    "                                     transforms.ToTensor()\n",
    "                                    ])\n",
    "\n",
    "siamese_dataset = SiameseNetworkDataset(imageFolderDataset=folder_dataset,\n",
    "                                        transform=transformation)"
   ]
  },
  {
   "cell_type": "code",
   "execution_count": null,
   "id": "255f6236",
   "metadata": {
    "colab": {
     "base_uri": "https://localhost:8080/",
     "height": 187
    },
    "id": "255f6236",
    "outputId": "4acb6c40-a619-420b-af3c-421bd0604cab"
   },
   "outputs": [],
   "source": [
    "vis_dataloader = DataLoader(siamese_dataset,\n",
    "                        shuffle=True,\n",
    "                        num_workers=16,\n",
    "                        batch_size=8)\n",
    "\n",
    "example_batch = next(iter(vis_dataloader))\n",
    "\n",
    "concatenated = torch.cat((example_batch[0], example_batch[1]),0)\n",
    "\n",
    "imshow(torchvision.utils.make_grid(concatenated))\n",
    "#print(example_batch[2].numpy().reshape(-1))"
   ]
  },
  {
   "cell_type": "code",
   "execution_count": null,
   "id": "c1345a02",
   "metadata": {
    "id": "c1345a02"
   },
   "outputs": [],
   "source": [
    "class SiameseNetwork(nn.Module):\n",
    "\n",
    "    def __init__(self):\n",
    "        super(SiameseNetwork, self).__init__()\n",
    "\n",
    "            self.cnn1 = nn.Sequential(\n",
    "            nn.Conv2d(3, 96, kernel_size=5,stride=4),\n",
    "            nn.ReLU(inplace=True),\n",
    "            nn.MaxPool2d(3, stride=2),\n",
    "            \n",
    "            nn.Conv2d(96, 256, kernel_size=5, stride=1),\n",
    "            nn.ReLU(inplace=True),\n",
    "            nn.MaxPool2d(2, stride=2),\n",
    "\n",
    "            nn.Conv2d(256, 384, kernel_size=3,stride=1),\n",
    "            nn.ReLU(inplace=True)\n",
    "        )\n",
    "\n",
    "        self.fc1 = nn.Sequential(\n",
    "            nn.Linear(384, 1024),\n",
    "            nn.ReLU(inplace=True),\n",
    "            \n",
    "            nn.Linear(1024, 256),\n",
    "            nn.ReLU(inplace=True),\n",
    "            \n",
    "            nn.Linear(256,2)\n",
    "        )\n",
    "        \n",
    "    def forward_once(self, x):\n",
    "        output = self.cnn1(x)\n",
    "        output = output.view(output.size()[0], -1)\n",
    "        output = self.fc1(output)\n",
    "        return output\n",
    "\n",
    "    def forward(self, input1, input2):        \n",
    "        output1 = self.forward_once(input1)\n",
    "        output2 = self.forward_once(input2)\n",
    "\n",
    "        return output1, output2"
   ]
  },
  {
   "cell_type": "code",
   "execution_count": null,
   "id": "a68d0e7c",
   "metadata": {
    "id": "a68d0e7c"
   },
   "outputs": [],
   "source": [
    "class ContrastiveLoss(torch.nn.Module):\n",
    "    def __init__(self, margin=2.0):\n",
    "        super(ContrastiveLoss, self).__init__()\n",
    "        self.margin = margin\n",
    "\n",
    "    def forward(self, output1, output2, label):\n",
    "      euclidean_distance = F.pairwise_distance(output1, output2, keepdim = True)\n",
    "\n",
    "      loss_contrastive = torch.mean((1-label) * torch.pow(euclidean_distance, 2) +\n",
    "                                    (label) * torch.pow(torch.clamp(self.margin - euclidean_distance, min=0.0), 2))\n",
    "\n",
    "\n",
    "      return loss_contrastive"
   ]
  },
  {
   "cell_type": "code",
   "execution_count": null,
   "id": "cdf70589",
   "metadata": {
    "colab": {
     "base_uri": "https://localhost:8080/"
    },
    "id": "cdf70589",
    "outputId": "c87e667c-ecd7-434e-c9f7-2ddbe3e02b5e"
   },
   "outputs": [],
   "source": [
    "train_dataloader = DataLoader(siamese_dataset,\n",
    "                        shuffle=True,\n",
    "                        num_workers=16,\n",
    "                        batch_size=10)\n",
    "\n",
    "net = SiameseNetwork()\n",
    "criterion = ContrastiveLoss()\n",
    "optimizer = optim.Adam(net.parameters(), lr = 0.015 )\n"
   ]
  },
  {
   "cell_type": "code",
   "execution_count": null,
   "id": "135f0eae",
   "metadata": {
    "colab": {
     "base_uri": "https://localhost:8080/"
    },
    "id": "135f0eae",
    "outputId": "b0c1fbd1-c191-4dc3-915c-9748724f7cc7",
    "scrolled": true
   },
   "outputs": [],
   "source": [
    "counter = []\n",
    "loss_history = [] \n",
    "iteration_number= 0\n",
    "\n",
    "for epoch in range(10):\n",
    "    for i, (img0, img1, label) in enumerate(train_dataloader, 0):\n",
    "\n",
    "        img0, img1, label = img0, img1, label\n",
    "        print(img0.shape)\n",
    "\n",
    "        optimizer.zero_grad()\n",
    "        output1, output2 = net(img0, img1)\n",
    "\n",
    "        loss_contrastive = criterion(output1, output2, label)\n",
    "\n",
    "        loss_contrastive.backward()\n",
    "\n",
    "    def __init__(self,imageFolderDataset,transform=None):\n",
    "        self.imageFolderDataset = imageFolderDataset    \n",
    "        self.transform = transform\n",
    "        \n",
    "    def __getitem__(self,index):\n",
    "        img0_tuple = random.choice(self.imageFolderDataset.imgs)\n",
    "\n",
    "        should_get_same_class = random.randint(0,1) \n",
    "        if should_get_same_class:\n",
    "            while True:\n",
    "                img1_tuple = random.choice(self.imageFolderDataset.imgs) \n",
    "                if img0_tuple[1] == img1_tuple[1]:\n",
    "                    break\n",
    "        else:\n",
    "\n",
    "            while True:\n",
    "                img1_tuple = random.choice(self.imageFolderDataset.imgs) \n",
    "                if img0_tuple[1] != img1_tuple[1]:\n",
    "                    break\n",
    "\n",
    "        img0 = Image.open(img0_tuple[0])\n",
    "        img1 = Image.open(img1_tuple[0])\n",
    "\n",
    "        img0 = img0.convert(\"RGB\")\n",
    "        img1 = img1.convert(\"RGB\")\n",
    "\n",
    "        if self.transform is not None:\n",
    "            img0 = self.transform(img0)\n",
    "            img1 = self.transform(img1)\n",
    "        \n",
    "        return img0, img1, torch.from_numpy(np.array([int(img1_tuple[1] != img0_tuple[1])], dtype=np.float32))\n",
    "    \n",
    "    def __len__(self):\n",
    "        return len(self.imageFolderDataset.imgs)\n",
    "        optimizer.step()\n",
    "\n",
    "        if i % 10 == 0 :\n",
    "            #print(f\"Epoch number {epoch}\\n Current loss {loss_contrastive.item()}\\n\")\n",
    "            iteration_number += 10\n",
    "\n",
    "            counter.append(iteration_number)\n",
    "            loss_history.append(loss_contrastive.item())"
   ]
  },
  {
   "cell_type": "code",
   "execution_count": null,
   "id": "qUtvVdRaRY8F",
   "metadata": {
    "colab": {
     "base_uri": "https://localhost:8080/",
     "height": 1000
    },
    "id": "qUtvVdRaRY8F",
    "outputId": "90d5ca09-9f66-457a-e23f-cbeb58b2a3d3"
   },
   "outputs": [],
   "source": [
    "folder_dataset_test = datasets.ImageFolder(root=r\"/content/drive/MyDrive/Siamese Neural Network Recipe URLs/food_training\")\n",
    "siamese_dataset = SiameseNetworkDataset(imageFolderDataset=folder_dataset_test,\n",
    "                                        transform=transformation)\n",
    "test_dataloader = DataLoader(siamese_dataset, num_workers=0, batch_size=1, shuffle=True)\n",
    "\n",
    "dataiter = iter(test_dataloader)\n",
    "x0, _, _ = next(dataiter)\n",
    "\n",
    "for i in range(10):\n",
    "    _, x1, label2 = next(dataiter)\n",
    "    concatenated = torch.cat((x0, x1), 0)\n",
    "    output1, output2 = net(x0, x1)\n",
    "    euclidean_distance = F.pairwise_distance(output1, output2)\n",
    "    #imshow(torchvision.utils.make_grid(concatenated), f'Dissimilarity: {euclidean_distance.item():.5f}')"
   ]
  },
  {
   "cell_type": "code",
   "execution_count": null,
   "id": "7xo6kD-Kn0TU",
   "metadata": {
    "id": "7xo6kD-Kn0TU"
   },
   "outputs": [],
   "source": [
    "for outer_food in glob.iglob(\"/content/drive/MyDrive/Siamese Neural Network Recipe URLs/food_images\" + \"**/*.jpg\", recursive=True):\n",
    "\n",
    "    outer_food = Image.open(outer_food)    \n",
    "    outer_food = transform(outer_food)\n",
    "    outer_food = outer_food.unsqueeze(0)\n",
    "\n",
    "    for inner_food in glob.iglob(\"/content/drive/MyDrive/Siamese Neural Network Recipe URLs/food_images\" + \"**/*.jpg\", recursive=True):\n",
    "        inner_food = Image.open(inner_food) \n",
    "        inner_food = transform(inner_food)\n",
    "        inner_food = inner_food.unsqueeze(0)\n",
    "\n",
    "        output1, output2 = net(outer_food, inner_food)\n",
    "        euclidean_distance = F.pairwise_distance(output1, output2)\n",
    "        #imshow(torchvision.utils.make_grid(concatenated), f'Dissimilarity: {euclidean_distance.item():.5f}')"
   ]
  },
  {
   "cell_type": "code",
   "execution_count": null,
   "id": "Hxql6gqYfa0s",
   "metadata": {
    "id": "Hxql6gqYfa0s"
   },
   "outputs": [],
   "source": [
    "import pickle\n",
    "f=open('/content/drive/MyDrive/Siamese Neural Network Recipe URLs/startswith1.pkl','wb')\n",
    "pickle.dump(matrix, f)\n",
    "f.close()"
   ]
  },
  {
   "cell_type": "code",
   "execution_count": null,
   "id": "rWIYHaC5gU9P",
   "metadata": {
    "colab": {
     "base_uri": "https://localhost:8080/"
    },
    "id": "rWIYHaC5gU9P",
    "outputId": "ba0d4cc0-2021-4c2f-9033-6915b4587d88"
   },
   "outputs": [],
   "source": [
    "pickle_in = open(\"/content/drive/MyDrive/Siamese Neural Network Recipe URLs/final_outputs.pkl\",\"rb\")\n",
    "matrix = pickle.load(pickle_in)\n",
    "matrix"
   ]
  },
  {
   "cell_type": "code",
   "execution_count": null,
   "id": "DGzP6tqY39nk",
   "metadata": {
    "id": "DGzP6tqY39nk"
   },
   "outputs": [],
   "source": [
    "inner_food = torch.rand((3, 100, 100))\n",
    "inner_food = inner_food.unsqueeze(0)"
   ]
  },
  {
   "cell_type": "code",
   "execution_count": null,
   "id": "zDTVo-g_lqW0",
   "metadata": {
    "id": "zDTVo-g_lqW0"
   },
   "outputs": [],
   "source": [
    "matrix = [0] * 36228"
   ]
  },
  {
   "cell_type": "code",
   "execution_count": null,
   "id": "Yiyl4Ynj2D-a",
   "metadata": {
    "id": "Yiyl4Ynj2D-a"
   },
   "outputs": [],
   "source": [
    "import glob\n",
    "import pickle\n",
    "import re\n",
    "\n",
    "outer_food_number = 0\n",
    "\n",
    "for outer_food in glob.iglob(\"/content/drive/MyDrive/Siamese Neural Network Recipe URLs/Food_images\" + \"**/0*.jpg\", recursive=True):\n",
    "\n",
    "    index = re.search('images/(.*).j', str(outer_food)).group(1)\n",
    "    outer_food = Image.open(outer_food)    \n",
    "    outer_food = outer_food.resize((140,140))\n",
    "    outer_food = outer_food.crop((20,20,120,120))\n",
    "    outer_food = outer_food.convert(\"RGB\")\n",
    "    transform = transforms.ToTensor()\n",
    "    outer_food = transform(outer_food)\n",
    "    outer_food = outer_food.unsqueeze(0)\n",
    "\n",
    "    output1, output2 = net(outer_food, inner_food)\n",
    "    matrix[int(index)] = output1\n",
    "f=open('/content/drive/MyDrive/Siamese Neural Network Recipe URLs/final_outputs.pkl','wb')\n",
    "pickle.dump(matrix, f)\n",
    "f.close()"
   ]
  },
  {
   "cell_type": "code",
   "execution_count": null,
   "id": "VcjCh26Wamdg",
   "metadata": {
    "id": "VcjCh26Wamdg"
   },
   "outputs": [],
   "source": [
    "f=open('test.pkl','wb')\n",
    "pickle.dump(matrix, f)\n",
    "f.close()\n",
    "\n",
    "f2 = open('test.pkl', 'rb')\n",
    "s = pickle.load(f2)\n",
    "f2.close()\n",
    "s"
   ]
  },
  {
   "cell_type": "code",
   "execution_count": null,
   "id": "Lhf6Z7MdpqBt",
   "metadata": {
    "id": "Lhf6Z7MdpqBt"
   },
   "outputs": [],
   "source": [
    "final_matrix = np.empty((8,36228))"
   ]
  },
  {
   "cell_type": "code",
   "execution_count": null,
   "id": "3MH7e_5w6Ux6",
   "metadata": {
    "colab": {
     "base_uri": "https://localhost:8080/"
    },
    "id": "3MH7e_5w6Ux6",
    "outputId": "e70569fa-1ac9-451e-b90d-6867ffcadab7"
   },
   "outputs": [],
   "source": [
    "for i in range(8):\n",
    "  #print(i)\n",
    "  for j in range(len(matrix)):\n",
    "      euclidean_distance = F.pairwise_distance(matrix[i], matrix[j])\n",
    "      final_matrix[i][j] = euclidean_distance"
   ]
  },
  {
   "cell_type": "code",
   "execution_count": null,
   "id": "Pd_8wGY8mn21",
   "metadata": {
    "colab": {
     "base_uri": "https://localhost:8080/",
     "height": 394
    },
    "id": "Pd_8wGY8mn21",
    "outputId": "23be7e14-007f-41ad-f202-c0a0469b373c"
   },
   "outputs": [],
   "source": [
    "data_f = pd.DataFrame(final_matrix)\n",
    "data_f"
   ]
  },
  {
   "cell_type": "code",
   "execution_count": null,
   "id": "-WNbCjd9eTEs",
   "metadata": {
    "colab": {
     "base_uri": "https://localhost:8080/",
     "height": 201
    },
    "id": "-WNbCjd9eTEs",
    "outputId": "0594f500-4969-4e84-afcc-ef2286eba887"
   },
   "outputs": [],
   "source": [
    "f=open('/content/drive/MyDrive/Siamese Neural Network Recipe URLs/Final_results.pkl','wb')\n",
    "pickle.dump(final_matrix, f)\n",
    "f.close()"
   ]
  },
  {
   "cell_type": "code",
   "execution_count": null,
   "id": "d3igunMOR0Y3",
   "metadata": {
    "id": "d3igunMOR0Y3"
   },
   "outputs": [],
   "source": [
    "sample_data = url_data[25000:]"
   ]
  },
  {
   "cell_type": "code",
   "execution_count": null,
   "id": "99W9Hf2ichcG",
   "metadata": {
    "id": "99W9Hf2ichcG"
   },
   "outputs": [],
   "source": [
    "for index, item in sample_data.iterrows():\n",
    "    urllib.request.urlretrieve(item.image_url, \"/content/drive/MyDrive/Siamese Neural Network Recipe URLs/Food_images/\" + str(index)+\".jpg\")"
   ]
  },
  {
   "cell_type": "code",
   "execution_count": null,
   "id": "7YCtMcO7cpX7",
   "metadata": {
    "colab": {
     "base_uri": "https://localhost:8080/",
     "height": 415
    },
    "id": "7YCtMcO7cpX7",
    "outputId": "edd67d4a-4242-4627-bc26-494a4ba2a090"
   },
   "outputs": [],
   "source": [
    "folder_dataset_test = datasets.ImageFolder(root=r\"/content/drive/MyDrive/Siamese Neural Network Recipe URLs/food_images\")\n",
    "siamese_dataset = SiameseNetworkDataset(imageFolderDataset=folder_dataset_test,\n",
    "                                        transform=transformation)\n",
    "test_dataloader = DataLoader(siamese_dataset, num_workers=16, batch_size=1, shuffle=True)\n",
    "\n",
    "dataiter = iter(test_dataloader)\n",
    "x0, _, _ = next(dataiter)\n",
    "\n",
    "for i in range(5):\n",
    "    _, x1, label2 = next(dataiter)\n",
    "    concatenated = torch.cat((x0, x1), 0)\n",
    "    \n",
    "    #print(x0.shape)\n",
    "    output1, output2 = net(x0, x1)\n",
    "    euclidean_distance = F.pairwise_distance(output1, output2)\n",
    "    #imshow(torchvision.utils.make_grid(concatenated), f'Dissimilarity: {euclidean_distance.item():.5f}')"
   ]
  },
  {
   "cell_type": "code",
   "execution_count": null,
   "id": "U3OQx9fAedsc",
   "metadata": {
    "id": "U3OQx9fAedsc"
   },
   "outputs": [],
   "source": []
  }
 ],
 "metadata": {
  "accelerator": "GPU",
  "colab": {
   "collapsed_sections": [],
   "name": "Siamese NN (1).ipynb",
   "provenance": []
  },
  "gpuClass": "standard",
  "kernelspec": {
   "display_name": "Python 3",
   "language": "python",
   "name": "python3"
  },
  "language_info": {
   "codemirror_mode": {
    "name": "ipython",
    "version": 3
   },
   "file_extension": ".py",
   "mimetype": "text/x-python",
   "name": "python",
   "nbconvert_exporter": "python",
   "pygments_lexer": "ipython3",
   "version": "3.8.8"
  }
 },
 "nbformat": 4,
 "nbformat_minor": 5
}
